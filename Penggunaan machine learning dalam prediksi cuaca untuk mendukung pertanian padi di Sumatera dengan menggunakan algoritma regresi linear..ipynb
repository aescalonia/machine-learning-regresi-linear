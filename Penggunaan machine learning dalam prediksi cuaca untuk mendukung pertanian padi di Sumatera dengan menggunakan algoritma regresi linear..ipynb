{
  "cells": [
    {
      "cell_type": "markdown",
      "metadata": {},
      "source": [
        "####  (IF540-AL) Machine Learning \n",
        "\n",
        "##### Kelompok 1  \n",
        "\n",
        "Areta Escalonia Candra (00000057872)\n",
        "\n",
        "Auliyaa Vishhwakarma Hestia (00000059515)\n",
        "\n",
        "Kelsha Aira Meylie (00000064613)\n",
        "\n",
        "Yustira Nhisya Shabilla (00000063592)\n",
        "\n",
        "---"
      ]
    },
    {
      "cell_type": "code",
      "execution_count": 1,
      "metadata": {
        "id": "86SrE5wAWkdG"
      },
      "outputs": [],
      "source": [
        "import pandas as pd\n",
        "import numpy as np\n",
        "import matplotlib.pyplot as plt\n",
        "from sklearn.model_selection import train_test_split\n",
        "from sklearn.linear_model import LinearRegression\n",
        "from sklearn.metrics import mean_squared_error, mean_absolute_error, r2_score\n"
      ]
    },
    {
      "cell_type": "code",
      "execution_count": 2,
      "metadata": {
        "colab": {
          "base_uri": "https://localhost:8080/",
          "height": 110
        },
        "id": "hefV9PraaCDr",
        "outputId": "4e750870-922e-496f-940a-25113036196b"
      },
      "outputs": [],
      "source": [
        "# from google.colab import files\n",
        "\n",
        "# uploaded = files.upload()\n"
      ]
    },
    {
      "cell_type": "markdown",
      "metadata": {
        "id": "qTdUqTRvW9e2"
      },
      "source": [
        "https://www.kaggle.com/datasets/ardikasatria/datasettanamanpadisumatera/"
      ]
    },
    {
      "cell_type": "code",
      "execution_count": 3,
      "metadata": {
        "colab": {
          "base_uri": "https://localhost:8080/"
        },
        "id": "oBzXNuyxWvn7",
        "outputId": "aa51363a-8352-4000-e1fb-8180630a09bc"
      },
      "outputs": [
        {
          "name": "stdout",
          "output_type": "stream",
          "text": [
            "    Provinsi  Tahun    Produksi  Luas Panen  Curah hujan  Kelembapan  \\\n",
            "0       Aceh   1993  1329536.00   323589.00       1627.0       82.00   \n",
            "1       Aceh   1994  1299699.00   329041.00       1521.0       82.12   \n",
            "2       Aceh   1995  1382905.00   339253.00       1476.0       82.72   \n",
            "3       Aceh   1996  1419128.00   348223.00       1557.0       83.00   \n",
            "4       Aceh   1997  1368074.00   337561.00       1339.0       82.46   \n",
            "..       ...    ...         ...         ...          ...         ...   \n",
            "219  Lampung   2016  3831923.00   390799.00       2317.6       79.40   \n",
            "220  Lampung   2017  4090654.00   396559.00       1825.1       77.04   \n",
            "221  Lampung   2018  2488641.91   511940.93       1385.8       76.05   \n",
            "222  Lampung   2019  2164089.33   464103.42       1706.4       78.03   \n",
            "223  Lampung   2020  2604913.29   545149.05       2211.3       75.80   \n",
            "\n",
            "     Suhu rata-rata  \n",
            "0             26.06  \n",
            "1             26.92  \n",
            "2             26.27  \n",
            "3             26.08  \n",
            "4             26.31  \n",
            "..              ...  \n",
            "219           26.45  \n",
            "220           26.36  \n",
            "221           25.50  \n",
            "222           27.23  \n",
            "223           24.58  \n",
            "\n",
            "[224 rows x 7 columns]\n"
          ]
        }
      ],
      "source": [
        "file_path = 'Data_Tanaman_Padi_Sumatera_version_1.csv'\n",
        "\n",
        "df = pd.read_csv(file_path)\n",
        "print(df)\n"
      ]
    },
    {
      "cell_type": "code",
      "execution_count": 4,
      "metadata": {
        "colab": {
          "base_uri": "https://localhost:8080/"
        },
        "id": "yxQiMOWga7_j",
        "outputId": "80869a2a-ce2c-45b1-a314-89b2c42a3d85"
      },
      "outputs": [
        {
          "name": "stdout",
          "output_type": "stream",
          "text": [
            "             Provinsi  Tahun    Produksi  Luas Panen  Curah hujan  Kelembapan  \\\n",
            "22               Aceh   2015  1956940.00   461060.00      1575.00       80.00   \n",
            "23               Aceh   2016  2180754.00   293067.00      1096.00       83.32   \n",
            "24               Aceh   2017  2478922.00   294483.00      1905.90       85.57   \n",
            "25               Aceh   2018  1751996.94   329515.78      1427.80       83.98   \n",
            "26               Aceh   2019  1714437.60   310012.46      1931.40       83.90   \n",
            "27               Aceh   2020  1861567.10   317869.41      1619.20       80.82   \n",
            "50     Sumatera Utara   2015  4044829.00   781769.00       975.90       86.90   \n",
            "51     Sumatera Utara   2016  4387035.90   423029.00      2384.00       82.00   \n",
            "52     Sumatera Utara   2017  4669777.50   415675.00      3190.00       84.00   \n",
            "53     Sumatera Utara   2018  2108284.72   408176.45      2431.00       80.00   \n",
            "54     Sumatera Utara   2019  2078901.59   413141.24      1401.60       86.53   \n",
            "55     Sumatera Utara   2020  2076280.01   388591.22      1648.30       83.76   \n",
            "78     Sumatera Barat   2015  2550609.00   507545.00      3548.00       84.00   \n",
            "79     Sumatera Barat   2016  2487929.00   222482.00      4205.20       76.49   \n",
            "80     Sumatera Barat   2017  2810425.00   222021.00      4553.00       75.11   \n",
            "81     Sumatera Barat   2018  1483076.48   313050.82       327.33       82.71   \n",
            "82     Sumatera Barat   2019  1482996.01   311671.23      4757.50       87.73   \n",
            "83     Sumatera Barat   2020  1450839.74   295664.47      4072.70       85.22   \n",
            "106              Riau   2015   393917.00   107546.00      2048.30       80.50   \n",
            "107              Riau   2016   325826.00    72151.00      2105.60       83.72   \n",
            "108              Riau   2017   337421.00    70016.00      2982.90       84.76   \n",
            "109              Riau   2018   266375.53    71448.08      1837.10       71.22   \n",
            "110              Riau   2019   230873.97    63142.04      1608.30       83.77   \n",
            "111              Riau   2020   269344.05    64733.13      2584.90       81.80   \n",
            "134             Jambi   2015   541486.00   122214.00      1694.90       82.10   \n",
            "135             Jambi   2016   642095.00    96588.00      1502.40       83.84   \n",
            "136             Jambi   2017   678127.00    97690.00      2193.20       83.69   \n",
            "137             Jambi   2018   383045.74    86202.68      2182.30       82.23   \n",
            "138             Jambi   2019   309932.68    69536.06      1773.40       81.44   \n",
            "139             Jambi   2020   374376.27    84772.93      2303.80       78.24   \n",
            "162  Sumatera Selatan   2015  4247922.00   872737.00      1947.20       79.50   \n",
            "163  Sumatera Selatan   2016  4881089.00   615184.00      3477.90       82.22   \n",
            "164  Sumatera Selatan   2017  4807430.00   621903.00      2489.50       81.08   \n",
            "165  Sumatera Selatan   2018  2994191.84   581574.61      2252.40       77.66   \n",
            "166  Sumatera Selatan   2019  2603396.24   539316.52      1655.50       85.13   \n",
            "167  Sumatera Selatan   2020  2696877.46   551320.76      2300.20       81.10   \n",
            "190          Bengkulu   2015   578654.00   128833.00      2668.90       83.20   \n",
            "191          Bengkulu   2016   629224.00    83449.00      3350.10       83.38   \n",
            "192          Bengkulu   2017   714017.00    82429.00      3949.80       84.20   \n",
            "193          Bengkulu   2018   288810.52    65891.16      3649.90       83.79   \n",
            "194          Bengkulu   2019   296472.07    64406.86      1786.20       83.26   \n",
            "195          Bengkulu   2020   296925.16    64137.28      4144.00       80.18   \n",
            "218           Lampung   2015  3641895.00   707266.00      1628.10       78.90   \n",
            "219           Lampung   2016  3831923.00   390799.00      2317.60       79.40   \n",
            "220           Lampung   2017  4090654.00   396559.00      1825.10       77.04   \n",
            "221           Lampung   2018  2488641.91   511940.93      1385.80       76.05   \n",
            "222           Lampung   2019  2164089.33   464103.42      1706.40       78.03   \n",
            "223           Lampung   2020  2604913.29   545149.05      2211.30       75.80   \n",
            "\n",
            "     Suhu rata-rata  \n",
            "22            27.10  \n",
            "23            27.12  \n",
            "24            26.51  \n",
            "25            26.48  \n",
            "26            26.65  \n",
            "27            25.41  \n",
            "50            27.40  \n",
            "51            27.65  \n",
            "52            27.50  \n",
            "53            26.41  \n",
            "54            27.03  \n",
            "55            25.79  \n",
            "78            26.50  \n",
            "79            23.26  \n",
            "80            22.19  \n",
            "81            26.91  \n",
            "82            25.61  \n",
            "83            26.26  \n",
            "106           27.20  \n",
            "107           27.00  \n",
            "108           26.70  \n",
            "109           25.00  \n",
            "110           26.91  \n",
            "111           25.93  \n",
            "134           27.00  \n",
            "135           26.84  \n",
            "136           26.62  \n",
            "137           26.62  \n",
            "138           26.94  \n",
            "139           25.85  \n",
            "162           27.70  \n",
            "163           27.31  \n",
            "164           26.75  \n",
            "165           27.00  \n",
            "166           27.60  \n",
            "167           26.14  \n",
            "190           27.00  \n",
            "191           26.77  \n",
            "192           26.52  \n",
            "193           26.64  \n",
            "194           26.56  \n",
            "195           25.84  \n",
            "218           27.10  \n",
            "219           26.45  \n",
            "220           26.36  \n",
            "221           25.50  \n",
            "222           27.23  \n",
            "223           24.58  \n"
          ]
        }
      ],
      "source": [
        "mask = (df['Tahun'] >= 1993) & (df['Tahun'] <= 2014)\n",
        "\n",
        "df.drop(df[mask].index, inplace=True)\n",
        "\n",
        "print(df)"
      ]
    },
    {
      "cell_type": "code",
      "execution_count": 5,
      "metadata": {
        "colab": {
          "base_uri": "https://localhost:8080/"
        },
        "id": "Q3pCJvpjdWkn",
        "outputId": "b0d8a103-54aa-432c-a1c1-ea95705395ca"
      },
      "outputs": [
        {
          "name": "stdout",
          "output_type": "stream",
          "text": [
            "Statistik Deskriptif Data Cuaca:\n",
            "             Tahun      Produksi     Luas Panen  Curah hujan  Kelembapan  \\\n",
            "count    48.000000  4.800000e+01      48.000000    48.000000   48.000000   \n",
            "mean   2017.500000  1.920532e+06  312538.824792  2346.100625   81.651458   \n",
            "std       1.725898  1.449199e+06  219689.235157   994.225363    3.386956   \n",
            "min    2015.000000  2.308740e+05   63142.040000   327.330000   71.220000   \n",
            "25%    2016.000000  5.045938e+05   85845.242500  1653.700000   79.875000   \n",
            "50%    2017.500000  1.909254e+06  310841.845000  2143.950000   82.225000   \n",
            "75%    2019.000000  2.627904e+06  461820.855000  2747.400000   83.855000   \n",
            "max    2020.000000  4.881089e+06  872737.000000  4757.500000   87.730000   \n",
            "\n",
            "       Suhu rata-rata  \n",
            "count       48.000000  \n",
            "mean        26.446667  \n",
            "std          1.036579  \n",
            "min         22.190000  \n",
            "25%         26.230000  \n",
            "50%         26.645000  \n",
            "75%         27.007500  \n",
            "max         27.700000  \n"
          ]
        }
      ],
      "source": [
        "# Statistik Deskriptif\n",
        "print(\"Statistik Deskriptif Data Cuaca:\")\n",
        "print(df.describe())"
      ]
    },
    {
      "cell_type": "code",
      "execution_count": 6,
      "metadata": {
        "colab": {
          "base_uri": "https://localhost:8080/"
        },
        "id": "rztasBh9i6P-",
        "outputId": "0a12c1be-8dde-4e96-8c09-d07999232126"
      },
      "outputs": [
        {
          "name": "stdout",
          "output_type": "stream",
          "text": [
            "\n",
            "Statistik Deskriptif Data Pertanian Padi:\n",
            "count    4.800000e+01\n",
            "mean     1.920532e+06\n",
            "std      1.449199e+06\n",
            "min      2.308740e+05\n",
            "25%      5.045938e+05\n",
            "50%      1.909254e+06\n",
            "75%      2.627904e+06\n",
            "max      4.881089e+06\n",
            "Name: Produksi, dtype: float64\n"
          ]
        }
      ],
      "source": [
        "print(\"\\nStatistik Deskriptif Data Pertanian Padi:\")\n",
        "print(df['Produksi'].describe())"
      ]
    },
    {
      "cell_type": "code",
      "execution_count": 7,
      "metadata": {},
      "outputs": [
        {
          "name": "stdout",
          "output_type": "stream",
          "text": [
            "   Provinsi   Tahun  Suhu rata-rata  Curah hujan  Kelembapan  Produksi\n",
            "22     Aceh  2015.0        0.856624     0.289147    0.760145  0.000000\n",
            "23     Aceh  2016.0        0.678766     0.509590    0.640824  0.008273\n",
            "24     Aceh  2017.0        0.872958     0.308695    0.658995  0.066795\n",
            "25     Aceh  2018.0        0.843920     0.265243    0.764385  0.088431\n",
            "26     Aceh  2019.0        0.803993     0.421173    0.755300  0.096179\n",
            "..      ...     ...             ...          ...         ...       ...\n",
            "43      NaN     NaN        0.773140     0.449254    0.495457  0.774383\n",
            "44      NaN     NaN        0.756806     0.338084    0.352514  0.830022\n",
            "45      NaN     NaN        0.600726     0.238923    0.292550  0.485519\n",
            "46      NaN     NaN        0.914701     0.311291    0.412477  0.415726\n",
            "47      NaN     NaN        0.433757     0.425259    0.277408  0.510522\n",
            "\n",
            "[90 rows x 6 columns]\n"
          ]
        }
      ],
      "source": [
        "from sklearn.preprocessing import MinMaxScaler\n",
        "\n",
        "numeric_cols = df[['Suhu rata-rata', 'Curah hujan', 'Kelembapan', 'Produksi']]\n",
        "\n",
        "scaler = MinMaxScaler()\n",
        "\n",
        "df_scaled_minmax = scaler.fit_transform(numeric_cols)\n",
        "\n",
        "df_scaled_minmax = pd.DataFrame(df_scaled_minmax, columns=['Suhu rata-rata', 'Curah hujan', 'Kelembapan', 'Produksi'])\n",
        "\n",
        "df_scaled_minmax = pd.concat([df[['Provinsi', 'Tahun']], df_scaled_minmax], axis=1)\n",
        "\n",
        "print(df_scaled_minmax)\n"
      ]
    },
    {
      "cell_type": "code",
      "execution_count": 8,
      "metadata": {
        "colab": {
          "base_uri": "https://localhost:8080/",
          "height": 472
        },
        "id": "bdocycqbdWhy",
        "outputId": "67c7e184-aece-459d-91fc-e2d3a864f893"
      },
      "outputs": [
        {
          "data": {
            "image/png": "[encoded data removed]",
            "text/plain": [
              "<Figure size 640x480 with 1 Axes>"
            ]
          },
          "metadata": {},
          "output_type": "display_data"
        }
      ],
      "source": [
        "# Visualisasi Data\n",
        "# Histogram suhu\n",
        "plt.hist(df['Suhu rata-rata'], bins=20)\n",
        "plt.xlabel('Suhu (°C)')\n",
        "plt.ylabel('Frekuensi')\n",
        "plt.title('Distribusi Suhu')\n",
        "plt.show()"
      ]
    },
    {
      "cell_type": "code",
      "execution_count": 9,
      "metadata": {
        "colab": {
          "base_uri": "https://localhost:8080/",
          "height": 472
        },
        "id": "Q1jTVQbZdWej",
        "outputId": "39b4c169-d585-4b5a-bc14-7afae649dd4d"
      },
      "outputs": [
        {
          "data": {
            "image/png": "[encoded data removed]",
            "text/plain": [
              "<Figure size 640x480 with 1 Axes>"
            ]
          },
          "metadata": {},
          "output_type": "display_data"
        }
      ],
      "source": [
        "# Scatter plot curah hujan vs. hasil pertanian\n",
        "plt.scatter(df['Curah hujan'], df['Produksi'])\n",
        "plt.xlabel('Curah Hujan (mm)')\n",
        "plt.ylabel('Hasil Pertanian')\n",
        "plt.title('Scatter Plot Curah Hujan vs. Hasil Pertanian')\n",
        "plt.show()"
      ]
    },
    {
      "cell_type": "code",
      "execution_count": 10,
      "metadata": {
        "colab": {
          "base_uri": "https://localhost:8080/"
        },
        "id": "AESya3VydV9V",
        "outputId": "d6b94f05-9b09-417a-de1d-57223bb8396e"
      },
      "outputs": [
        {
          "name": "stdout",
          "output_type": "stream",
          "text": [
            "Korelasi antara Curah Hujan dan Hasil Pertanian: -0.0313018701072217\n"
          ]
        }
      ],
      "source": [
        "# Korelasi antara Curah Hujan dan Hasil Pertanian\n",
        "correlation_ch_hp = df['Curah hujan'].corr(df['Produksi'])\n",
        "print(f\"Korelasi antara Curah Hujan dan Hasil Pertanian: {correlation_ch_hp}\")"
      ]
    },
    {
      "cell_type": "code",
      "execution_count": 11,
      "metadata": {
        "id": "04e0hW6reCGc"
      },
      "outputs": [],
      "source": [
        "# Bagi data menjadi data latih dan data uji\n",
        "X = df[['Suhu rata-rata', 'Curah hujan', 'Kelembapan']]\n",
        "y = df['Produksi']\n",
        "X_train, X_test, y_train, y_test = train_test_split(X, y, test_size=0.2, random_state=42)\n"
      ]
    },
    {
      "cell_type": "code",
      "execution_count": 28,
      "metadata": {},
      "outputs": [
        {
          "name": "stdout",
          "output_type": "stream",
          "text": [
            "Mean Squared Error on the entire dataset: 1920787755376.6726\n"
          ]
        }
      ],
      "source": [
        "from sklearn.linear_model import LinearRegression\n",
        "from sklearn.metrics import mean_squared_error\n",
        "import pandas as pd\n",
        "\n",
        "# Assuming df is your DataFrame\n",
        "X = df[['Suhu rata-rata', 'Curah hujan', 'Kelembapan']]\n",
        "y = df['Produksi']\n",
        "\n",
        "# Inisialisasi model regresi linear\n",
        "model = LinearRegression()\n",
        "\n",
        "# Latih model pada seluruh dataset\n",
        "model.fit(X, y)\n",
        "\n",
        "# Lakukan prediksi pada seluruh dataset\n",
        "y_pred = model.predict(X)\n",
        "\n",
        "# Evaluate the model\n",
        "mse = mean_squared_error(y, y_pred)\n",
        "print(f'Mean Squared Error on the entire dataset: {mse}')\n"
      ]
    },
    {
      "cell_type": "code",
      "execution_count": 12,
      "metadata": {
        "id": "gViHh-GteCD4"
      },
      "outputs": [],
      "source": [
        "# Inisialisasi model regresi linear\n",
        "model = LinearRegression()\n",
        "\n",
        "# Latih model pada data latih\n",
        "model.fit(X_train, y_train)\n",
        "\n",
        "# Lakukan prediksi pada data uji\n",
        "y_pred = model.predict(X_test)"
      ]
    },
    {
      "cell_type": "code",
      "execution_count": 13,
      "metadata": {
        "colab": {
          "base_uri": "https://localhost:8080/"
        },
        "id": "4HA--O-xeCBe",
        "outputId": "8167b08c-1c1c-42fc-fb43-b99220cde11b"
      },
      "outputs": [
        {
          "name": "stdout",
          "output_type": "stream",
          "text": [
            "Mean Squared Error (MSE): 2092436461981.5728\n",
            "Mean Absolute Error (MAE): 1356596.9289644186\n",
            "R-squared (R2): -0.6619489704543591\n"
          ]
        }
      ],
      "source": [
        "# Evaluasi model\n",
        "mse = mean_squared_error(y_test, y_pred)\n",
        "mae = mean_absolute_error(y_test, y_pred)\n",
        "r2 = r2_score(y_test, y_pred)\n",
        "\n",
        "print(f\"Mean Squared Error (MSE): {mse}\")\n",
        "print(f\"Mean Absolute Error (MAE): {mae}\")\n",
        "print(f\"R-squared (R2): {r2}\")"
      ]
    },
    {
      "cell_type": "code",
      "execution_count": 14,
      "metadata": {
        "colab": {
          "base_uri": "https://localhost:8080/"
        },
        "id": "vvihZR7aeB-g",
        "outputId": "d35e693e-fe8d-49d6-dd66-db67258b3701"
      },
      "outputs": [
        {
          "name": "stdout",
          "output_type": "stream",
          "text": [
            "Prediksi Hasil Pertanian: 4289309.329530813\n"
          ]
        }
      ],
      "source": [
        "# Prediksi hasil pertanian untuk cuaca tertentu\n",
        "new_data = pd.DataFrame({'Suhu rata-rata': [30], 'Curah hujan': [100], 'Kelembapan': [70]})\n",
        "predicted_result = model.predict(new_data)\n",
        "print(f\"Prediksi Hasil Pertanian: {predicted_result[0]}\")"
      ]
    },
    {
      "cell_type": "code",
      "execution_count": 15,
      "metadata": {
        "colab": {
          "base_uri": "https://localhost:8080/"
        },
        "id": "8hojpkIDibw7",
        "outputId": "31a98968-a8af-4d0c-b46f-6801cbcd2063"
      },
      "outputs": [
        {
          "name": "stdout",
          "output_type": "stream",
          "text": [
            "             Provinsi  Tahun    Produksi\n",
            "22               Aceh   2015  1956940.00\n",
            "23               Aceh   2016  2180754.00\n",
            "24               Aceh   2017  2478922.00\n",
            "25               Aceh   2018  1751996.94\n",
            "26               Aceh   2019  1714437.60\n",
            "27               Aceh   2020  1861567.10\n",
            "50     Sumatera Utara   2015  4044829.00\n",
            "51     Sumatera Utara   2016  4387035.90\n",
            "52     Sumatera Utara   2017  4669777.50\n",
            "53     Sumatera Utara   2018  2108284.72\n",
            "54     Sumatera Utara   2019  2078901.59\n",
            "55     Sumatera Utara   2020  2076280.01\n",
            "78     Sumatera Barat   2015  2550609.00\n",
            "79     Sumatera Barat   2016  2487929.00\n",
            "80     Sumatera Barat   2017  2810425.00\n",
            "81     Sumatera Barat   2018  1483076.48\n",
            "82     Sumatera Barat   2019  1482996.01\n",
            "83     Sumatera Barat   2020  1450839.74\n",
            "106              Riau   2015   393917.00\n",
            "107              Riau   2016   325826.00\n",
            "108              Riau   2017   337421.00\n",
            "109              Riau   2018   266375.53\n",
            "110              Riau   2019   230873.97\n",
            "111              Riau   2020   269344.05\n",
            "134             Jambi   2015   541486.00\n",
            "135             Jambi   2016   642095.00\n",
            "136             Jambi   2017   678127.00\n",
            "137             Jambi   2018   383045.74\n",
            "138             Jambi   2019   309932.68\n",
            "139             Jambi   2020   374376.27\n",
            "162  Sumatera Selatan   2015  4247922.00\n",
            "163  Sumatera Selatan   2016  4881089.00\n",
            "164  Sumatera Selatan   2017  4807430.00\n",
            "165  Sumatera Selatan   2018  2994191.84\n",
            "166  Sumatera Selatan   2019  2603396.24\n",
            "167  Sumatera Selatan   2020  2696877.46\n",
            "190          Bengkulu   2015   578654.00\n",
            "191          Bengkulu   2016   629224.00\n",
            "192          Bengkulu   2017   714017.00\n",
            "193          Bengkulu   2018   288810.52\n",
            "194          Bengkulu   2019   296472.07\n",
            "195          Bengkulu   2020   296925.16\n",
            "218           Lampung   2015  3641895.00\n",
            "219           Lampung   2016  3831923.00\n",
            "220           Lampung   2017  4090654.00\n",
            "221           Lampung   2018  2488641.91\n",
            "222           Lampung   2019  2164089.33\n",
            "223           Lampung   2020  2604913.29\n"
          ]
        }
      ],
      "source": [
        "data_produksi_provinsi = df[['Provinsi', 'Tahun', 'Produksi']]\n",
        "print(data_produksi_provinsi)\n"
      ]
    },
    {
      "cell_type": "code",
      "execution_count": 16,
      "metadata": {
        "colab": {
          "base_uri": "https://localhost:8080/"
        },
        "id": "42n2MsSZVgU3",
        "outputId": "1af2d806-ed1b-4bf4-e330-118c9b57a485"
      },
      "outputs": [
        {
          "name": "stdout",
          "output_type": "stream",
          "text": [
            "Korelasi antara Curah Hujan dan Hasil Pertanian: -0.0313018701072217\n"
          ]
        }
      ],
      "source": [
        "correlation_ch_hp = df['Curah hujan'].corr(df['Produksi'])\n",
        "print(f\"Korelasi antara Curah Hujan dan Hasil Pertanian: {correlation_ch_hp}\")"
      ]
    },
    {
      "cell_type": "code",
      "execution_count": 17,
      "metadata": {
        "colab": {
          "base_uri": "https://localhost:8080/"
        },
        "id": "mZGzkXXgIrjW",
        "outputId": "843e61fd-ae80-417e-b72a-8f3bf72c9fab"
      },
      "outputs": [
        {
          "name": "stdout",
          "output_type": "stream",
          "text": [
            "Korelasi antara Suhu dan Hasil Pertanian: 0.10291714035963943\n"
          ]
        }
      ],
      "source": [
        "correlation_suhu_hp = df['Suhu rata-rata'].corr(df['Produksi'])\n",
        "print(f\"Korelasi antara Suhu dan Hasil Pertanian: {correlation_suhu_hp}\")"
      ]
    },
    {
      "cell_type": "code",
      "execution_count": 18,
      "metadata": {
        "colab": {
          "base_uri": "https://localhost:8080/"
        },
        "id": "DO-ZPmDFHexS",
        "outputId": "079fe1b8-c145-4bce-c6e0-c485f045536a"
      },
      "outputs": [
        {
          "name": "stdout",
          "output_type": "stream",
          "text": [
            "Korelasi antara Kelembapan dan Hasil Pertanian: -0.13367316025061113\n"
          ]
        }
      ],
      "source": [
        "correlation_kelembapan_hp = df['Kelembapan'].corr(df['Produksi'])\n",
        "print(f\"Korelasi antara Kelembapan dan Hasil Pertanian: {correlation_kelembapan_hp}\")"
      ]
    },
    {
      "cell_type": "code",
      "execution_count": 27,
      "metadata": {},
      "outputs": [
        {
          "name": "stdout",
          "output_type": "stream",
          "text": [
            "Korelasi antara Curah Hujan dan Suhu: -0.4339678361486974\n"
          ]
        }
      ],
      "source": []
    },
    {
      "cell_type": "code",
      "execution_count": 19,
      "metadata": {
        "colab": {
          "base_uri": "https://localhost:8080/",
          "height": 584
        },
        "id": "3T685PvqVmun",
        "outputId": "78284747-376d-45ee-b719-3563c4cec6ca"
      },
      "outputs": [
        {
          "data": {
            "image/png": "[encoded data removed]",
            "text/plain": [
              "<Figure size 1000x800 with 2 Axes>"
            ]
          },
          "metadata": {},
          "output_type": "display_data"
        }
      ],
      "source": [
        "import seaborn as sns\n",
        "\n",
        "numeric_cols = df.select_dtypes(include=[np.number])\n",
        "\n",
        "correlation_matrix = numeric_cols.corr()\n",
        "\n",
        "plt.figure(figsize=(10, 8))\n",
        "sns.heatmap(correlation_matrix, annot=True, cmap='coolwarm', fmt=\".2f\", linewidths=.5)\n",
        "plt.title('Correlation Heatmap')\n",
        "plt.show()\n"
      ]
    },
    {
      "cell_type": "code",
      "execution_count": 20,
      "metadata": {
        "colab": {
          "base_uri": "https://localhost:8080/"
        },
        "id": "dJ0bHSDCWWmk",
        "outputId": "2e44990c-3e28-4ff5-9680-733a685e87a6"
      },
      "outputs": [
        {
          "name": "stdout",
          "output_type": "stream",
          "text": [
            "             Provinsi  Tahun    Produksi  Suhu rata-rata   Musim\n",
            "22               Aceh   2015  1956940.00           27.10  Summer\n",
            "23               Aceh   2016  2180754.00           27.12  Summer\n",
            "24               Aceh   2017  2478922.00           26.51  Summer\n",
            "25               Aceh   2018  1751996.94           26.48  Summer\n",
            "26               Aceh   2019  1714437.60           26.65  Summer\n",
            "27               Aceh   2020  1861567.10           25.41  Summer\n",
            "50     Sumatera Utara   2015  4044829.00           27.40  Summer\n",
            "51     Sumatera Utara   2016  4387035.90           27.65  Summer\n",
            "52     Sumatera Utara   2017  4669777.50           27.50  Summer\n",
            "53     Sumatera Utara   2018  2108284.72           26.41  Summer\n",
            "54     Sumatera Utara   2019  2078901.59           27.03  Summer\n",
            "55     Sumatera Utara   2020  2076280.01           25.79  Summer\n",
            "78     Sumatera Barat   2015  2550609.00           26.50  Summer\n",
            "79     Sumatera Barat   2016  2487929.00           23.26  Summer\n",
            "80     Sumatera Barat   2017  2810425.00           22.19  Summer\n",
            "81     Sumatera Barat   2018  1483076.48           26.91  Summer\n",
            "82     Sumatera Barat   2019  1482996.01           25.61  Summer\n",
            "83     Sumatera Barat   2020  1450839.74           26.26  Summer\n",
            "106              Riau   2015   393917.00           27.20  Summer\n",
            "107              Riau   2016   325826.00           27.00  Summer\n",
            "108              Riau   2017   337421.00           26.70  Summer\n",
            "109              Riau   2018   266375.53           25.00  Summer\n",
            "110              Riau   2019   230873.97           26.91  Summer\n",
            "111              Riau   2020   269344.05           25.93  Summer\n",
            "134             Jambi   2015   541486.00           27.00  Summer\n",
            "135             Jambi   2016   642095.00           26.84  Summer\n",
            "136             Jambi   2017   678127.00           26.62  Summer\n",
            "137             Jambi   2018   383045.74           26.62  Summer\n",
            "138             Jambi   2019   309932.68           26.94  Summer\n",
            "139             Jambi   2020   374376.27           25.85  Summer\n",
            "162  Sumatera Selatan   2015  4247922.00           27.70  Summer\n",
            "163  Sumatera Selatan   2016  4881089.00           27.31  Summer\n",
            "164  Sumatera Selatan   2017  4807430.00           26.75  Summer\n",
            "165  Sumatera Selatan   2018  2994191.84           27.00  Summer\n",
            "166  Sumatera Selatan   2019  2603396.24           27.60  Summer\n",
            "167  Sumatera Selatan   2020  2696877.46           26.14  Summer\n",
            "190          Bengkulu   2015   578654.00           27.00  Summer\n",
            "191          Bengkulu   2016   629224.00           26.77  Summer\n",
            "192          Bengkulu   2017   714017.00           26.52  Summer\n",
            "193          Bengkulu   2018   288810.52           26.64  Summer\n",
            "194          Bengkulu   2019   296472.07           26.56  Summer\n",
            "195          Bengkulu   2020   296925.16           25.84  Summer\n",
            "218           Lampung   2015  3641895.00           27.10  Summer\n",
            "219           Lampung   2016  3831923.00           26.45  Summer\n",
            "220           Lampung   2017  4090654.00           26.36  Summer\n",
            "221           Lampung   2018  2488641.91           25.50  Summer\n",
            "222           Lampung   2019  2164089.33           27.23  Summer\n",
            "223           Lampung   2020  2604913.29           24.58  Summer\n"
          ]
        }
      ],
      "source": [
        "# Menentukan musim berdasarkan analisis korelasi\n",
        "# Misalnya, jika suhu tinggi berkorelasi positif dengan produksi, itu bisa dianggap sebagai musim panas.\n",
        "\n",
        "# Menentukan korelasi antara suhu rata-rata dan produksi\n",
        "correlation_temp_production = df['Suhu rata-rata'].corr(df['Produksi'])\n",
        "\n",
        "# Menentukan kategori musim berdasarkan korelasi\n",
        "if correlation_temp_production > 0:\n",
        "    # Jika korelasi positif, maka dapat dianggap sebagai musim panas\n",
        "    df['Musim'] = 'Summer'\n",
        "elif correlation_temp_production < 0:\n",
        "    # Jika korelasi negatif, maka dapat dianggap sebagai musim hujan\n",
        "    df['Musim'] = 'Rainy'\n",
        "else:\n",
        "    # Jika korelasi tidak positif atau negatif, bisa dianggap sebagai musim lainnya atau tidak dapat ditentukan\n",
        "    df['Musim'] = 'Other/Undefined'\n",
        "\n",
        "# Menampilkan data dengan kolom musim baru\n",
        "print(df[['Provinsi', 'Tahun', 'Produksi', 'Suhu rata-rata', 'Musim']])\n"
      ]
    },
    {
      "cell_type": "code",
      "execution_count": 21,
      "metadata": {
        "colab": {
          "base_uri": "https://localhost:8080/"
        },
        "id": "VItKnd5bZa41",
        "outputId": "f69e8ab8-7ec0-44ba-995a-bbf446486c6e"
      },
      "outputs": [
        {
          "name": "stdout",
          "output_type": "stream",
          "text": [
            "Provinsi  Aceh  Bengkulu  Jambi  Lampung  Riau  Sumatera Barat  \\\n",
            "Musim                                                            \n",
            "Summer       6         6      6        6     6               6   \n",
            "\n",
            "Provinsi  Sumatera Selatan  Sumatera Utara  \n",
            "Musim                                       \n",
            "Summer                   6               6  \n"
          ]
        }
      ],
      "source": [
        "# Tabel kontingensi antara musim dan provinsi\n",
        "contingency_table = pd.crosstab(df['Musim'], df['Provinsi'])\n",
        "print(contingency_table)\n"
      ]
    },
    {
      "cell_type": "code",
      "execution_count": 22,
      "metadata": {
        "colab": {
          "base_uri": "https://localhost:8080/"
        },
        "id": "_IAwOi4CZl9L",
        "outputId": "cff64ea3-591a-46dc-fcd0-d3afb385ac91"
      },
      "outputs": [
        {
          "name": "stdout",
          "output_type": "stream",
          "text": [
            "        count          mean           std        min        25%         50%  \\\n",
            "Musim                                                                         \n",
            "Summer   48.0  1.920532e+06  1.449199e+06  230873.97  504593.75  1909253.55   \n",
            "\n",
            "                 75%        max  \n",
            "Musim                            \n",
            "Summer  2.627904e+06  4881089.0  \n"
          ]
        }
      ],
      "source": [
        "# Statistik deskriptif untuk setiap kategori musim\n",
        "summary_stats = df.groupby('Musim')['Produksi'].describe()\n",
        "print(summary_stats)\n"
      ]
    },
    {
      "cell_type": "code",
      "execution_count": 23,
      "metadata": {
        "colab": {
          "base_uri": "https://localhost:8080/",
          "height": 459
        },
        "id": "ktAahApfH2G3",
        "outputId": "026509f5-7080-4991-cf1f-e6a6e63b51d5"
      },
      "outputs": [
        {
          "data": {
            "image/png": "[encoded data removed]",
            "text/plain": [
              "<Figure size 1000x600 with 1 Axes>"
            ]
          },
          "metadata": {},
          "output_type": "display_data"
        }
      ],
      "source": [
        "# Analisis outlier menggunakan boxplot\n",
        "plt.figure(figsize=(10, 6))\n",
        "sns.boxplot(x=df['Produksi'])\n",
        "plt.title('Boxplot for Production Outliers')\n",
        "plt.show()"
      ]
    },
    {
      "cell_type": "code",
      "execution_count": 24,
      "metadata": {
        "id": "SWcSlOrrWaKa"
      },
      "outputs": [],
      "source": [
        "from sklearn.preprocessing import StandardScaler\n",
        "\n",
        "# Inisialisasi scaler\n",
        "scaler = StandardScaler()\n",
        "\n",
        "# Scaling variabel numerik\n",
        "numeric_cols = df[['Suhu rata-rata', 'Curah hujan', 'Kelembapan']]\n",
        "scaled_data = scaler.fit_transform(numeric_cols)\n",
        "df_scaled = pd.DataFrame(scaled_data, columns=['Suhu rata-rata', 'Curah hujan', 'Kelembapan'])\n",
        "\n",
        "# Gabungkan data yang telah discaling dengan kolom non-numerik\n",
        "df_scaled = pd.concat([df[['Provinsi', 'Tahun', 'Produksi']], df_scaled], axis=1)\n"
      ]
    },
    {
      "cell_type": "code",
      "execution_count": 25,
      "metadata": {},
      "outputs": [
        {
          "name": "stderr",
          "output_type": "stream",
          "text": [
            "[NbConvertApp] Converting notebook ./01_UAS_IF540L_Gsl2023_2024.ipynb to html\n",
            "[NbConvertApp] Writing 692314 bytes to 01_UAS_IF540L_Gsl2023_2024.html\n"
          ]
        }
      ],
      "source": [
        "!jupyter nbconvert --to html \"./01_UAS_IF540L_Gsl2023_2024.ipynb\" --output-dir=\"./\""
      ]
    }
  ],
  "metadata": {
    "colab": {
      "provenance": []
    },
    "kernelspec": {
      "display_name": "Python 3",
      "name": "python3"
    },
    "language_info": {
      "codemirror_mode": {
        "name": "ipython",
        "version": 3
      },
      "file_extension": ".py",
      "mimetype": "text/x-python",
      "name": "python",
      "nbconvert_exporter": "python",
      "pygments_lexer": "ipython3",
      "version": "3.11.2"
    }
  },
  "nbformat": 4,
  "nbformat_minor": 0
}
